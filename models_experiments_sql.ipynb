{
 "cells": [
  {
   "cell_type": "markdown",
   "source": [
    "# Database Connection"
   ],
   "metadata": {
    "collapsed": false
   },
   "id": "876046989adf1083"
  },
  {
   "cell_type": "code",
   "outputs": [],
   "source": [
    "from sqlalchemy.orm import Session\n",
    "from sqlalchemy import create_engine, text\n",
    "from recycle_conn_mysql import MYSQL_RECYCLE\n",
    "\n",
    "sql_connection = f\"mysql+pymysql://{MYSQL_RECYCLE.USER_NAME.value}:{MYSQL_RECYCLE.PASSWORD.value}@{MYSQL_RECYCLE.HOST.value}/{MYSQL_RECYCLE.NAME.value}\"\n",
    "\n",
    "recycle_db = create_engine(sql_connection, echo=True)"
   ],
   "metadata": {
    "collapsed": false
   },
   "id": "6eb33f08214ba261",
   "execution_count": null
  },
  {
   "cell_type": "markdown",
   "source": [
    "# Model Creations"
   ],
   "metadata": {
    "collapsed": false
   },
   "id": "27e5d178df391a52"
  },
  {
   "cell_type": "code",
   "execution_count": null,
   "id": "initial_id",
   "metadata": {
    "collapsed": true
   },
   "outputs": [],
   "source": [
    "waste_detection_v8m = {\"model\": \"wasteDetection/wasteDetectionv8m.pt\",\n",
    "                       \"classNames\": [\"biodegradable\",\n",
    "                                      \"clothes\",\n",
    "                                      \"electronic\",\n",
    "                                      \"glass\",\n",
    "                                      \"paper\",\n",
    "                                      \"plastic\"]}\n",
    "\n",
    "recycle_class_names = [\"Can\", \"Glass\", \"Plastic\", \"glass\"]\n",
    "\n",
    "# Al parecer funcionan mejor los n en la web cam...\n",
    "recycle_detection_v8n = {\"model\": \"recycle/recycle_v8n.pt\",\n",
    "                         \"classNames\": recycle_class_names}\n",
    "recycle_detection_v8m = {\"model\": \"recycle/recycle_v8m.pt\",\n",
    "                         \"classNames\": recycle_class_names}\n",
    "\n",
    "# Subir manual porque pesa más de 100Mb\n",
    "recycle_detection_v8x = {\"model\": \"recycle/recycle_v8x.pt\",\n",
    "                         \"classNames\": recycle_class_names}"
   ]
  },
  {
   "cell_type": "markdown",
   "source": [
    "# Model Instantiation"
   ],
   "metadata": {
    "collapsed": false
   },
   "id": "3b24dfed1b72c227"
  },
  {
   "cell_type": "code",
   "outputs": [],
   "source": [
    "model_detection = recycle_detection_v8n"
   ],
   "metadata": {
    "collapsed": false
   },
   "id": "d71bfdcabe3bb38e",
   "execution_count": null
  },
  {
   "cell_type": "markdown",
   "source": [
    "# Running Object Detection"
   ],
   "metadata": {
    "collapsed": false
   },
   "id": "c31e498f2851d66d"
  },
  {
   "cell_type": "code",
   "outputs": [],
   "source": [
    "import threading\n",
    "\n",
    "def insert_prediction(prediction, score, db):\n",
    "    with Session(db) as conn:\n",
    "        conn.execute(text(f\"insert into predictions(prediction, score, date) values('{prediction}',{score}, now())\"), dict())\n",
    "        conn.commit()"
   ],
   "metadata": {
    "collapsed": false
   },
   "id": "f45b62976be7b61d",
   "execution_count": null
  },
  {
   "cell_type": "code",
   "outputs": [],
   "source": [
    "from ultralytics import YOLO\n",
    "import cv2\n",
    "import math \n",
    "# start webcam\n",
    "cap = cv2.VideoCapture(0)\n",
    "cap.set(3, 640)\n",
    "cap.set(4, 480)\n",
    "\n",
    "# model\n",
    "model = YOLO(model_detection[\"model\"])\n",
    "\n",
    "# object classes\n",
    "classNames = model_detection[\"classNames\"]\n",
    "\n",
    "while True:\n",
    "    success, img = cap.read()\n",
    "    results = model(img, stream=True)\n",
    "\n",
    "    # coordinates\n",
    "    for r in results:\n",
    "        boxes = r.boxes\n",
    "\n",
    "        for box in boxes:\n",
    "            # confidence\n",
    "            confidence = math.ceil((box.conf[0]*100))/100\n",
    "            \n",
    "            if confidence > 0.5:\n",
    "                # bounding box\n",
    "                x1, y1, x2, y2 = box.xyxy[0]\n",
    "                x1, y1, x2, y2 = int(x1), int(y1), int(x2), int(y2) # convert to int values\n",
    "                # put box in cam\n",
    "                cv2.rectangle(img, (x1, y1), (x2, y2), (255, 0, 255), 3)\n",
    "        \n",
    "                # class name\n",
    "                cls = int(box.cls[0])\n",
    "                print(\"Class name -->\", classNames[cls])\n",
    "                print(\"Confidence --->\",confidence)\n",
    "    \n",
    "                # object details\n",
    "                org = [x1, y1]\n",
    "                font = cv2.FONT_HERSHEY_SIMPLEX\n",
    "                fontScale = 1\n",
    "                color = (255, 0, 0)\n",
    "                thickness = 2\n",
    "    \n",
    "                cv2.putText(img, classNames[cls], org, font, fontScale, color, thickness)\n",
    "                \n",
    "                threading.Thread(target=insert_prediction, args=(str(classNames[cls]), confidence, recycle_db)).start()\n",
    "\n",
    "    cv2.imshow('Webcam', img)\n",
    "    if cv2.waitKey(1) == ord('q'):\n",
    "        break\n",
    "\n",
    "cap.release()\n",
    "cv2.destroyAllWindows()"
   ],
   "metadata": {
    "collapsed": false
   },
   "id": "12f698d2fdceced6",
   "execution_count": null
  }
 ],
 "metadata": {
  "kernelspec": {
   "display_name": "Python 3",
   "language": "python",
   "name": "python3"
  },
  "language_info": {
   "codemirror_mode": {
    "name": "ipython",
    "version": 2
   },
   "file_extension": ".py",
   "mimetype": "text/x-python",
   "name": "python",
   "nbconvert_exporter": "python",
   "pygments_lexer": "ipython2",
   "version": "2.7.6"
  }
 },
 "nbformat": 4,
 "nbformat_minor": 5
}
